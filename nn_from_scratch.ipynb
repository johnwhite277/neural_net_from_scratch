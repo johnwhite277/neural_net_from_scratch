{
 "cells": [
  {
   "cell_type": "code",
   "execution_count": 1,
   "metadata": {},
   "outputs": [],
   "source": [
    "import numpy as np\n",
    "import matplotlib.pyplot as plt"
   ]
  },
  {
   "cell_type": "code",
   "execution_count": 2,
   "metadata": {},
   "outputs": [],
   "source": [
    "def sigmoid(x):\n",
    "    return 1 / (1 + np.exp(-x))\n",
    "\n",
    "def d_sigmoid(x):\n",
    "    return sigmoid(x)*(1 - sigmoid(x))\n",
    "\n",
    "def mse(y_true, y_pred):\n",
    "    return np.sum(np.power(y_pred - y_true, 2))\n",
    "\n",
    "def d_mse(output, y):\n",
    "    return 2 * (output - y)"
   ]
  },
  {
   "cell_type": "code",
   "execution_count": 3,
   "metadata": {},
   "outputs": [],
   "source": [
    "class Layer:\n",
    "    def __init__(self, size_in, size_out):\n",
    "        self.size_in = size_in\n",
    "        self.size_out = size_out\n",
    "\n",
    "        self.w = np.random.randn(size_in, size_out) - 0.5\n",
    "        self.b = np.random.randn(1) - 0.5\n",
    "\n",
    "    def for_prop(self, x):\n",
    "\n",
    "        z = np.dot(x, self.w) + self.b\n",
    "\n",
    "        self.a = sigmoid(z)\n",
    "        self.da = d_sigmoid(z)\n",
    "\n",
    "        return self.a"
   ]
  },
  {
   "cell_type": "code",
   "execution_count": 4,
   "metadata": {},
   "outputs": [],
   "source": [
    "class Network:\n",
    "    def __init__(self):\n",
    "        self.layers = []\n",
    "        self.loss = None\n",
    "        self.history = []\n",
    "\n",
    "    def add(self, size_in, size_out):\n",
    "        self.layers.append(Layer(size_in, size_out))\n",
    "\n",
    "    def predict(self, x):\n",
    "        accum = x\n",
    "        for layer in self.layers:\n",
    "            accum = layer.for_prop(accum)\n",
    "        return accum\n",
    "    \n",
    "    def train(self, x, y, epochs = 10000, rate = 0.1):\n",
    "        for epoch in range(epochs):\n",
    "            epoch_history = []\n",
    "            for i in range(len(x)):\n",
    "                \n",
    "                # Calculate the predicted value and \n",
    "                # the derivative of the loss function\n",
    "                output = self.predict(x[i])\n",
    "                error = d_mse(output, y[i])\n",
    "                epoch_history.append(mse(output, y[i]))\n",
    "\n",
    "                # Calculate the gradients, starting with the output layer\n",
    "                # and then looping through the remaining layers\n",
    "                d_output = error * self.layers[-1].da\n",
    "                dy = [d_output]\n",
    "                for j in reversed(range(len(self.layers) - 1)):\n",
    "                    dy.insert(0, np.dot(dy[0], self.layers[j + 1].w.transpose()) * self.layers[j].da)\n",
    "\n",
    "                # Create list of activation levels, starting with the input layer\n",
    "                # and then the remaining layers\n",
    "                activation_levels = [x[i].reshape(-1, 1)]\n",
    "                for layer in self.layers:\n",
    "                    activation_levels.append(layer.a.reshape(-1, 1))\n",
    "\n",
    "                # Loop backwards through the layers and \n",
    "                # and multiply gradient of each activation level\n",
    "                # updating the weights and biases accordingly\n",
    "                for j in reversed(range(len(self.layers))):\n",
    "                    #print(activation_levels[j])\n",
    "                    #print(dy[j].reshape(1, -1))\n",
    "                    self.layers[j].w -= rate * np.dot(activation_levels[j], dy[j].reshape(1, -1))\n",
    "                    self.layers[j].b -= rate * dy[j].sum()\n",
    "            #print(str(np.round(epoch/epochs * 100, 2)) + \"%\")\n",
    "            self.history.append(np.mean(epoch_history))"
   ]
  },
  {
   "cell_type": "code",
   "execution_count": 7,
   "metadata": {},
   "outputs": [
    {
     "data": {
      "text/plain": [
       "array([[0.03495232],\n",
       "       [0.96801114],\n",
       "       [0.9709478 ],\n",
       "       [0.02253447]])"
      ]
     },
     "execution_count": 7,
     "metadata": {},
     "output_type": "execute_result"
    }
   ],
   "source": [
    "# Example usage:\n",
    "model = Network()\n",
    "model.add(2, 5)\n",
    "model.add(5, 1)\n",
    "\n",
    "X = np.array([[1, 1],\n",
    "              [1, 0],\n",
    "              [0, 1],\n",
    "              [0, 0]])\n",
    "Y = np.array([[0], [1], [1], [0]])\n",
    "\n",
    "model.train(X, Y, epochs = 10000, rate = 0.1)\n",
    "\n",
    "model.predict(X)"
   ]
  },
  {
   "cell_type": "code",
   "execution_count": 8,
   "metadata": {},
   "outputs": [
    {
     "data": {
      "text/plain": [
       "[<matplotlib.lines.Line2D at 0x24be8ea1250>]"
      ]
     },
     "execution_count": 8,
     "metadata": {},
     "output_type": "execute_result"
    },
    {
     "data": {
      "image/png": "[encoded data removed]",
      "text/plain": [
       "<Figure size 640x480 with 1 Axes>"
      ]
     },
     "metadata": {},
     "output_type": "display_data"
    }
   ],
   "source": [
    "plt.plot(model.history)"
   ]
  },
  {
   "cell_type": "code",
   "execution_count": 9,
   "metadata": {},
   "outputs": [
    {
     "data": {
      "text/plain": [
       "0.0008997891699128009"
      ]
     },
     "execution_count": 9,
     "metadata": {},
     "output_type": "execute_result"
    }
   ],
   "source": [
    "model.history[-1]"
   ]
  },
  {
   "cell_type": "code",
   "execution_count": 11,
   "metadata": {},
   "outputs": [],
   "source": [
    "from sklearn.datasets import make_classification\n",
    "import pandas as pd\n",
    "\n",
    "features, target = make_classification(n_samples = 100,\n",
    "                                       n_features = 10,\n",
    "                                       n_informative = 10,\n",
    "                                       n_redundant = 0,\n",
    "                                       n_classes = 2,\n",
    "                                       weights = [0.3, 0.7],\n",
    "                                       random_state = 42)"
   ]
  },
  {
   "cell_type": "code",
   "execution_count": 12,
   "metadata": {},
   "outputs": [],
   "source": [
    "model = Network()\n",
    "model.add(10, 5)\n",
    "model.add(5, 1)\n",
    "#model.add(1000, 1)\n",
    "\n",
    "X = features\n",
    "Y = target\n",
    "\n",
    "model.train(X, Y, epochs = 100, rate = 0.1)"
   ]
  },
  {
   "cell_type": "code",
   "execution_count": 13,
   "metadata": {},
   "outputs": [
    {
     "data": {
      "text/plain": [
       "[<matplotlib.lines.Line2D at 0x24bff52d810>]"
      ]
     },
     "execution_count": 13,
     "metadata": {},
     "output_type": "execute_result"
    },
    {
     "data": {
      "image/png": "[encoded data removed]",
      "text/plain": [
       "<Figure size 640x480 with 1 Axes>"
      ]
     },
     "metadata": {},
     "output_type": "display_data"
    }
   ],
   "source": [
    "plt.plot(model.history)"
   ]
  },
  {
   "cell_type": "code",
   "execution_count": 14,
   "metadata": {},
   "outputs": [
    {
     "data": {
      "text/plain": [
       "0.034186669779388376"
      ]
     },
     "execution_count": 14,
     "metadata": {},
     "output_type": "execute_result"
    }
   ],
   "source": [
    "model.history[-1]"
   ]
  },
  {
   "cell_type": "code",
   "execution_count": null,
   "metadata": {},
   "outputs": [],
   "source": []
  }
 ],
 "metadata": {
  "kernelspec": {
   "display_name": "Python 3",
   "language": "python",
   "name": "python3"
  },
  "language_info": {
   "codemirror_mode": {
    "name": "ipython",
    "version": 3
   },
   "file_extension": ".py",
   "mimetype": "text/x-python",
   "name": "python",
   "nbconvert_exporter": "python",
   "pygments_lexer": "ipython3",
   "version": "3.11.4"
  }
 },
 "nbformat": 4,
 "nbformat_minor": 2
}
